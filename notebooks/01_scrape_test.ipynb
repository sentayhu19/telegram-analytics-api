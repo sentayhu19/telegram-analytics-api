{
 "cells": [
  {
   "cell_type": "markdown",
   "metadata": {},
   "source": [
    "# Telegram Scrape Test\n",
    "This notebook tests the `collect_channels` helper to download a small sample of messages into the data lake."
   ]
  },
  {
   "cell_type": "code",
   "execution_count": 1,
   "metadata": {},
   "outputs": [
    {
     "name": "stderr",
     "output_type": "stream",
     "text": [
      "Downloading lobelia4cosmetics: 100%|██████████| 10/10 [00:00<00:00, 46.37it/s]\n"
     ]
    },
    {
     "name": "stdout",
     "output_type": "stream",
     "text": [
      "Saved 10 messages -> data\\raw\\telegram_messages\\2025-07-13\\lobelia4cosmetics.json\n"
     ]
    },
    {
     "name": "stderr",
     "output_type": "stream",
     "text": [
      "Downloading tikvahpharma: 100%|██████████| 10/10 [00:00<00:00, 37.29it/s]"
     ]
    },
    {
     "name": "stdout",
     "output_type": "stream",
     "text": [
      "Saved 10 messages -> data\\raw\\telegram_messages\\2025-07-13\\tikvahpharma.json\n",
      "Done.\n"
     ]
    },
    {
     "name": "stderr",
     "output_type": "stream",
     "text": [
      "\n"
     ]
    }
   ],
   "source": [
    "import sys, asyncio\n",
    "from pathlib import Path\n",
    "proj = Path().resolve().parent\n",
    "if str(proj) not in sys.path:\n",
    "    sys.path.append(str(proj))\n",
    "\n",
    "from src.scraper.collector import collect_channels\n",
    "\n",
    "channels = [\n",
    "    \"https://t.me/lobelia4cosmetics\",\n",
    "    \"https://t.me/tikvahpharma\",\n",
    "]\n",
    "\n",
    "\n",
    "await collect_channels(channels, limit=10)\n",
    "\n",
    "print(\"Done.\")"
   ]
  }
 ],
 "metadata": {
  "kernelspec": {
   "display_name": "Python 3",
   "language": "python",
   "name": "python3"
  },
  "language_info": {
   "codemirror_mode": {
    "name": "ipython",
    "version": 3
   },
   "file_extension": ".py",
   "mimetype": "text/x-python",
   "name": "python",
   "nbconvert_exporter": "python",
   "pygments_lexer": "ipython3",
   "version": "3.10.0"
  }
 },
 "nbformat": 4,
 "nbformat_minor": 5
}
