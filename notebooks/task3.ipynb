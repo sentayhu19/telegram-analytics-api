{
 "cells": [
  {
   "cell_type": "code",
   "execution_count": 1,
   "id": "5ade9e78",
   "metadata": {},
   "outputs": [],
   "source": [
    "import sys\n",
    "import os\n",
    "from pathlib import Path\n",
    "\n",
    "# Get project root\n",
    "ROOT = Path(os.path.abspath('')).parent\n",
    "if str(ROOT) not in sys.path:\n",
    "    sys.path.insert(0, str(ROOT))\n",
    "\n",
    "# Load environment variables\n",
    "from dotenv import load_dotenv\n",
    "load_dotenv(ROOT / '.env')\n",
    "\n",
    "# Import our modules\n",
    "from src.db import get_connection\n",
    "from src.constants import env\n",
    "from src.image import ImageProcessor"
   ]
  },
  {
   "cell_type": "code",
   "execution_count": 2,
   "id": "bad5ecd6",
   "metadata": {},
   "outputs": [
    {
     "name": "stdout",
     "output_type": "stream",
     "text": [
      "Oracle connection test successful: 1\n"
     ]
    }
   ],
   "source": [
    "# Initialize Oracle connection and test\n",
    "with get_connection() as conn:\n",
    "    cur = conn.cursor()\n",
    "    cur.execute('SELECT 1 FROM dual')\n",
    "    result = cur.fetchone()\n",
    "    print(f'Oracle connection test successful: {result[0]}')"
   ]
  },
  {
   "cell_type": "code",
   "execution_count": 3,
   "id": "46889d89",
   "metadata": {},
   "outputs": [
    {
     "name": "stdout",
     "output_type": "stream",
     "text": [
      "Connection failed: ORA-00942: table or view \"TELEGRAM_RAW\".\"MESSAGES\" does not exist\n",
      "Help: https://docs.oracle.com/error-help/db/ora-00942/\n"
     ]
    },
    {
     "ename": "DatabaseError",
     "evalue": "ORA-00942: table or view \"TELEGRAM_RAW\".\"MESSAGES\" does not exist\nHelp: https://docs.oracle.com/error-help/db/ora-00942/",
     "output_type": "error",
     "traceback": [
      "\u001b[1;31m---------------------------------------------------------------------------\u001b[0m",
      "\u001b[1;31mDatabaseError\u001b[0m                             Traceback (most recent call last)",
      "Cell \u001b[1;32mIn[3], line 4\u001b[0m\n\u001b[0;32m      2\u001b[0m \u001b[38;5;28;01mwith\u001b[39;00m get_connection() \u001b[38;5;28;01mas\u001b[39;00m conn:\n\u001b[0;32m      3\u001b[0m     cur \u001b[38;5;241m=\u001b[39m conn\u001b[38;5;241m.\u001b[39mcursor()\n\u001b[1;32m----> 4\u001b[0m     \u001b[43mcur\u001b[49m\u001b[38;5;241;43m.\u001b[39;49m\u001b[43mexecute\u001b[49m\u001b[43m(\u001b[49m\u001b[38;5;124;43m\"\"\"\u001b[39;49m\n\u001b[0;32m      5\u001b[0m \u001b[38;5;124;43m        SELECT COUNT(*) as message_count,\u001b[39;49m\n\u001b[0;32m      6\u001b[0m \u001b[38;5;124;43m               MIN(message_ts) as first_msg,\u001b[39;49m\n\u001b[0;32m      7\u001b[0m \u001b[38;5;124;43m               MAX(message_ts) as last_msg\u001b[39;49m\n\u001b[0;32m      8\u001b[0m \u001b[38;5;124;43m        FROM telegram_raw.messages\u001b[39;49m\n\u001b[0;32m      9\u001b[0m \u001b[38;5;124;43m    \u001b[39;49m\u001b[38;5;124;43m\"\"\"\u001b[39;49m\u001b[43m)\u001b[49m\n\u001b[0;32m     10\u001b[0m     count, first, last \u001b[38;5;241m=\u001b[39m cur\u001b[38;5;241m.\u001b[39mfetchone()\n\u001b[0;32m     11\u001b[0m     \u001b[38;5;28mprint\u001b[39m(\u001b[38;5;124mf\u001b[39m\u001b[38;5;124m'\u001b[39m\u001b[38;5;130;01m\\n\u001b[39;00m\u001b[38;5;124mMessages in database:\u001b[39m\u001b[38;5;124m'\u001b[39m)\n",
      "File \u001b[1;32mc:\\Users\\senta\\AppData\\Local\\Programs\\Python\\Python310\\lib\\site-packages\\oracledb\\cursor.py:708\u001b[0m, in \u001b[0;36mCursor.execute\u001b[1;34m(self, statement, parameters, **keyword_parameters)\u001b[0m\n\u001b[0;32m    706\u001b[0m \u001b[38;5;28mself\u001b[39m\u001b[38;5;241m.\u001b[39m_prepare_for_execute(statement, parameters, keyword_parameters)\n\u001b[0;32m    707\u001b[0m impl \u001b[38;5;241m=\u001b[39m \u001b[38;5;28mself\u001b[39m\u001b[38;5;241m.\u001b[39m_impl\n\u001b[1;32m--> 708\u001b[0m \u001b[43mimpl\u001b[49m\u001b[38;5;241;43m.\u001b[39;49m\u001b[43mexecute\u001b[49m\u001b[43m(\u001b[49m\u001b[38;5;28;43mself\u001b[39;49m\u001b[43m)\u001b[49m\n\u001b[0;32m    709\u001b[0m \u001b[38;5;28;01mif\u001b[39;00m impl\u001b[38;5;241m.\u001b[39mfetch_vars \u001b[38;5;129;01mis\u001b[39;00m \u001b[38;5;129;01mnot\u001b[39;00m \u001b[38;5;28;01mNone\u001b[39;00m:\n\u001b[0;32m    710\u001b[0m     \u001b[38;5;28;01mreturn\u001b[39;00m \u001b[38;5;28mself\u001b[39m\n",
      "File \u001b[1;32msrc/oracledb/impl/thick/cursor.pyx:318\u001b[0m, in \u001b[0;36moracledb.thick_impl.ThickCursorImpl.execute\u001b[1;34m()\u001b[0m\n",
      "File \u001b[1;32msrc/oracledb/impl/thick/utils.pyx:484\u001b[0m, in \u001b[0;36moracledb.thick_impl._raise_from_odpi\u001b[1;34m()\u001b[0m\n",
      "File \u001b[1;32msrc/oracledb/impl/thick/utils.pyx:474\u001b[0m, in \u001b[0;36moracledb.thick_impl._raise_from_info\u001b[1;34m()\u001b[0m\n",
      "\u001b[1;31mDatabaseError\u001b[0m: ORA-00942: table or view \"TELEGRAM_RAW\".\"MESSAGES\" does not exist\nHelp: https://docs.oracle.com/error-help/db/ora-00942/"
     ]
    }
   ],
   "source": [
    "# Check messages in database\n",
    "with get_connection() as conn:\n",
    "    cur = conn.cursor()\n",
    "    cur.execute(\"\"\"\n",
    "        SELECT COUNT(*) as message_count,\n",
    "               MIN(message_ts) as first_msg,\n",
    "               MAX(message_ts) as last_msg\n",
    "        FROM telegram_raw.messages\n",
    "    \"\"\")\n",
    "    count, first, last = cur.fetchone()\n",
    "    print(f'\\nMessages in database:')\n",
    "    print(f'Total messages: {count}')\n",
    "    print(f'First message: {first}')\n",
    "    print(f'Last message: {last}')"
   ]
  },
  {
   "cell_type": "code",
   "execution_count": null,
   "id": "943f64a4",
   "metadata": {},
   "outputs": [],
   "source": [
    "# Get a sample message with photo\n",
    "with get_connection() as conn:\n",
    "    cur = conn.cursor()\n",
    "    cur.execute(\"\"\"\n",
    "        SELECT message_id, payload\n",
    "        FROM telegram_raw.messages\n",
    "        WHERE JSON_EXISTS(payload, '$.photo')\n",
    "        ORDER BY message_ts DESC\n",
    "        FETCH FIRST 1 ROW ONLY\n",
    "    \"\"\")\n",
    "    \n",
    "    if cur.rowcount == 0:\n",
    "        print('No messages with photos found!')\n",
    "        raise SystemExit\n",
    "    \n",
    "    message_id, payload = cur.fetchone()\n",
    "    message = json.loads(payload)\n",
    "    \n",
    "    print(f'\\nSample message with photo:')\n",
    "    print(f'Message ID: {message_id}')\n",
    "    print(f'Channel: {message.get(\"channel_slug\")}')\n",
    "    print(f'Date: {message.get(\"date\")}')\n",
    "    print(f'Photo info: {message.get(\"photo\")}')"
   ]
  },
  {
   "cell_type": "code",
   "execution_count": null,
   "id": "00e5eca5",
   "metadata": {},
   "outputs": [],
   "source": [
    "pip install -r ../requirements.txt"
   ]
  }
 ],
 "metadata": {
  "kernelspec": {
   "display_name": "Python 3",
   "language": "python",
   "name": "python3"
  },
  "language_info": {
   "codemirror_mode": {
    "name": "ipython",
    "version": 3
   },
   "file_extension": ".py",
   "mimetype": "text/x-python",
   "name": "python",
   "nbconvert_exporter": "python",
   "pygments_lexer": "ipython3",
   "version": "3.10.0"
  }
 },
 "nbformat": 4,
 "nbformat_minor": 5
}
